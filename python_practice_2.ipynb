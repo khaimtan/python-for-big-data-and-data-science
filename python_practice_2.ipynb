{
  "nbformat": 4,
  "nbformat_minor": 0,
  "metadata": {
    "colab": {
      "provenance": []
    },
    "kernelspec": {
      "name": "python3",
      "display_name": "Python 3"
    },
    "language_info": {
      "name": "python"
    }
  },
  "cells": [
    {
      "cell_type": "markdown",
      "source": [
        "# I. Змінні та памʼять."
      ],
      "metadata": {
        "id": "p9wwt0LZzNvn"
      }
    },
    {
      "cell_type": "markdown",
      "source": [
        "1. Створити змінні, що посилаються на два цілих числа, що однакові за значенням, де значення належить проміжку від -5 до 256. Перевірте, чи будуть ці змінні рівні тільки за значенням або ж ще будуть посилатися на один і той самий обʼєкт в памʼяті? Наведіть код та дайте текстову відповідь нижче."
      ],
      "metadata": {
        "id": "HTJrrm95xSV9"
      }
    },
    {
      "cell_type": "code",
      "execution_count": null,
      "metadata": {
        "id": "TATni2vzayjG",
        "colab": {
          "base_uri": "https://localhost:8080/"
        },
        "outputId": "530d990b-c14f-4d0c-ee05-d6c40a337040"
      },
      "outputs": [
        {
          "output_type": "stream",
          "name": "stdout",
          "text": [
            "10751144 10751144\n"
          ]
        }
      ],
      "source": [
        "num1 = 10\n",
        "num2 = 10\n",
        "\n",
        "print (id(num1), id (num2))"
      ]
    },
    {
      "cell_type": "markdown",
      "source": [
        "Відповідь:\n",
        "Для чисел, що входять в діапазон від -5 до 256, їх id є ідентичний, це створено для оптимізації пам'яті. В цей діапазон входять числа, до яких найчастіше звертаються, щоб у пам’яті не було багато об’єктів"
      ],
      "metadata": {
        "id": "zfRG_o3WbRdg"
      }
    },
    {
      "cell_type": "markdown",
      "source": [
        "2. За допомогою якої функції можна перевірити належність змінної до вказаного типу даних (напр. чи змінна True посилається на значення булевого та цілочисленого типу)?"
      ],
      "metadata": {
        "id": "ISORzt6M3vAt"
      }
    },
    {
      "cell_type": "code",
      "source": [
        "print(isinstance (True, bool))\n",
        "print(isinstance (True, int))\n"
      ],
      "metadata": {
        "id": "9vL9CFaMbfyo",
        "colab": {
          "base_uri": "https://localhost:8080/"
        },
        "outputId": "b463d18e-6ee8-4ead-9d5a-ab040e0fca5d"
      },
      "execution_count": null,
      "outputs": [
        {
          "output_type": "stream",
          "name": "stdout",
          "text": [
            "True\n",
            "True\n"
          ]
        }
      ]
    },
    {
      "cell_type": "markdown",
      "source": [
        "# II. Цілі числа та числа з рухомою комою"
      ],
      "metadata": {
        "id": "tRxugKAxwYLw"
      }
    },
    {
      "cell_type": "markdown",
      "source": [
        "3. Створити дві змінні, що посилаються на будь-які ціле число та число з рухомою комою та продемонструвати такі арифметичні операції: додавання, віднімання, ділення, множення, ділення без залишку, ділення по модулю, приведення до ступеню. Всі результати операцій вивести на екран."
      ],
      "metadata": {
        "id": "NLHkgd5Gybc8"
      }
    },
    {
      "cell_type": "code",
      "source": [
        "num_int = 6\n",
        "num_float = 0.5\n",
        "\n",
        "sum = num_int + num_float\n",
        "subtr = num_int - num_float\n",
        "mult = num_int * num_float\n",
        "divison = num_int / num_float\n",
        "div_without_rem = num_int // num_float\n",
        "div_by_mod = num_int % num_float\n",
        "power = num_int ** num_float\n",
        "\n",
        "print (\"Summary:\", sum)\n",
        "print (\"Division:\", subtr)\n",
        "print (\"Multiplication:\", mult)\n",
        "print (\"Division:\", divison)\n",
        "print (\"Division without remainder:\", div_without_rem)\n",
        "print (\"Division by module:\", div_by_mod)\n",
        "print (\"Power:\", power)\n",
        "\n"
      ],
      "metadata": {
        "id": "nb8u_3pjb2cA",
        "colab": {
          "base_uri": "https://localhost:8080/"
        },
        "outputId": "490e986b-4189-4102-f036-8064395d7ccd"
      },
      "execution_count": null,
      "outputs": [
        {
          "output_type": "stream",
          "name": "stdout",
          "text": [
            "Summary: 6.5\n",
            "Division: 5.5\n",
            "Multiplication: 3.0\n",
            "Division: 12.0\n",
            "Division without remainder: 12.0\n",
            "Division by module: 0.0\n",
            "Power: 2.449489742783178\n"
          ]
        }
      ]
    },
    {
      "cell_type": "markdown",
      "source": [
        "4. Використовуючи змінні з вправи 3, продемонструйте механізм явного перетворення типів, де числа з рухомою комою перетворюються на цілі числа. Також визначте змінну, що посилається на значення булевого типу і спробуйте явно привести її до цілого числа."
      ],
      "metadata": {
        "id": "1kBClKgPzZnC"
      }
    },
    {
      "cell_type": "code",
      "source": [
        "num_int = 6\n",
        "num_float = 0.5\n",
        "\n",
        "to_int = int(num_float)\n",
        "\n",
        "boolian = True\n",
        "\n",
        "bool_to_int = int(boolian)\n",
        "\n",
        "print(\"Converting a floating-point number to an integer:\", to_int)\n",
        "print(\"Converting a Boolean value to an integer:\", bool_to_int)"
      ],
      "metadata": {
        "id": "TbqJbkeUcKsD",
        "colab": {
          "base_uri": "https://localhost:8080/"
        },
        "outputId": "9b80cf5f-235e-4d3a-e6e0-e0aad3313f84"
      },
      "execution_count": null,
      "outputs": [
        {
          "output_type": "stream",
          "name": "stdout",
          "text": [
            "Перетворення числа з рухомою комою на ціле: 0\n",
            "Перетворення булевого значення на ціле: 1\n"
          ]
        }
      ]
    },
    {
      "cell_type": "markdown",
      "source": [
        "# IІІ. Рядки (String)."
      ],
      "metadata": {
        "id": "EVJ7AflwxrZi"
      }
    },
    {
      "cell_type": "markdown",
      "source": [
        "5. Створити пустий рядок двома різними способами."
      ],
      "metadata": {
        "id": "_s5ECzz9zE61"
      }
    },
    {
      "cell_type": "code",
      "source": [
        "str_var = \"\"\n",
        "str_var1 = \"\"\" \"\"\" # empty multi-line string\n",
        "\n",
        "s2 = str()"
      ],
      "metadata": {
        "id": "fkZJHu9Scvc-"
      },
      "execution_count": null,
      "outputs": []
    },
    {
      "cell_type": "markdown",
      "source": [
        "6. Створити рядок з апострофом. Зробити\n",
        "його сирим. Вивести обидва рядка на екран."
      ],
      "metadata": {
        "id": "4Bdn9J3MzLf_"
      }
    },
    {
      "cell_type": "code",
      "source": [
        "str_var = r\"I'm not good at Python\"\n",
        "\n",
        "print(str_var)"
      ],
      "metadata": {
        "id": "ivji_hsmc0GH",
        "colab": {
          "base_uri": "https://localhost:8080/"
        },
        "outputId": "e676fa41-5b04-4dd9-a880-0612d01615ae"
      },
      "execution_count": null,
      "outputs": [
        {
          "output_type": "stream",
          "name": "stdout",
          "text": [
            "I'm not good at Python\n"
          ]
        }
      ]
    },
    {
      "cell_type": "markdown",
      "source": [
        "7. Створити змінну, що буде посилатися на Ваше прізвище латинкою. Створити форматований рядок, який буде мати вигляд \"My surname is ______\", де на місці нижніх підкреслень буде Ваше прізвище зі змінної."
      ],
      "metadata": {
        "id": "bg_d8wM4z8dS"
      }
    },
    {
      "cell_type": "code",
      "source": [
        "surname = \"Khaimyk\"\n",
        "\n",
        "string = f\"My surname is {surname}\"\n",
        "\n",
        "print(string)"
      ],
      "metadata": {
        "id": "kuxFgpWndACq",
        "colab": {
          "base_uri": "https://localhost:8080/"
        },
        "outputId": "39f2c514-2c8e-46f0-cc85-06cad72104fa"
      },
      "execution_count": null,
      "outputs": [
        {
          "output_type": "stream",
          "name": "stdout",
          "text": [
            "My surname is Khaimyk\n"
          ]
        }
      ]
    },
    {
      "cell_type": "markdown",
      "source": [
        "8. Маючи рядок \"My dog is crazy.\" перетворити його на список [\"my\", \"dog\", \"is\", \"crazy\"]"
      ],
      "metadata": {
        "id": "1Nc6RqvQ0hxU"
      }
    },
    {
      "cell_type": "code",
      "source": [
        "string = \"My dog is crazy.\"\n",
        "\n",
        "words = string.lower().replace(\".\", \"\").split()\n",
        "\n",
        "\n",
        "print(words)"
      ],
      "metadata": {
        "id": "w1Ya4RqedUhw",
        "colab": {
          "base_uri": "https://localhost:8080/"
        },
        "outputId": "6de7c5e1-9130-4bb1-a3ee-82c8663b2858"
      },
      "execution_count": null,
      "outputs": [
        {
          "output_type": "stream",
          "name": "stdout",
          "text": [
            "['my', 'dog', 'is', 'crazy']\n"
          ]
        }
      ]
    },
    {
      "cell_type": "markdown",
      "source": [
        "# IV. Робота зі списками."
      ],
      "metadata": {
        "id": "GYVqN9uP1D4n"
      }
    },
    {
      "cell_type": "markdown",
      "source": [
        "9. Створити список двома різними за синтаксисом способами. За допомогою вбудованої функції обчисліть довжину одного з них."
      ],
      "metadata": {
        "id": "7-DeDunw2sO-"
      }
    },
    {
      "cell_type": "code",
      "source": [
        "list_var1 = list((1, 2, 3, 4, 5))\n",
        "list_var2 = [1, 2, 3, 4]\n",
        "\n",
        "print(\"Lenght of second list:\", len(list_var2))"
      ],
      "metadata": {
        "id": "zxg06Uuxdyoh",
        "colab": {
          "base_uri": "https://localhost:8080/"
        },
        "outputId": "30ad36c2-33b5-42bd-bf19-60d09a5006e2"
      },
      "execution_count": null,
      "outputs": [
        {
          "output_type": "stream",
          "name": "stdout",
          "text": [
            "Lenght of second list: 4\n"
          ]
        }
      ]
    },
    {
      "cell_type": "markdown",
      "source": [
        "10. Створіть два списка та за допомогою спеціального методу додайте другий з них в якості останнього елемента першого."
      ],
      "metadata": {
        "id": "8vmGUTjL22gI"
      }
    },
    {
      "cell_type": "code",
      "source": [
        "list_var1 = [1, 2, 3, 4, 5]\n",
        "list_var2 = [6, 7, 8, 9]\n",
        "\n",
        "list_var1.extend(list_var2)\n",
        "\n",
        "print(\"List:\", list_var1)"
      ],
      "metadata": {
        "id": "uHtjWYw7d7hm",
        "colab": {
          "base_uri": "https://localhost:8080/"
        },
        "outputId": "3c1fcc50-63d3-4f47-e274-4dd180fc8b00"
      },
      "execution_count": null,
      "outputs": [
        {
          "output_type": "stream",
          "name": "stdout",
          "text": [
            "List: [1, 2, 3, 4, 5, 6, 7, 8, 9]\n"
          ]
        }
      ]
    },
    {
      "cell_type": "markdown",
      "source": [
        "11. Створіть список, де елементами цього списку також є списки. Отримай перший елемент з останнього рядка та виведи значення на екран."
      ],
      "metadata": {
        "id": "JC3BkD-67_--"
      }
    },
    {
      "cell_type": "code",
      "source": [
        "list_1 = [\n",
        "    [1, 2, 3],\n",
        "    [4, 5, 6],\n",
        "    [7, 8, 9],\n",
        "    [10, 11, 12]\n",
        "]\n",
        "\n",
        "last_element = list_1[-1][0]\n",
        "\n",
        "print(last_element)"
      ],
      "metadata": {
        "id": "Kz2jZHsGeLlz",
        "colab": {
          "base_uri": "https://localhost:8080/"
        },
        "outputId": "6e542064-320d-4d2a-888d-1397396de3f2"
      },
      "execution_count": null,
      "outputs": [
        {
          "output_type": "stream",
          "name": "stdout",
          "text": [
            "10\n"
          ]
        }
      ]
    },
    {
      "cell_type": "markdown",
      "source": [
        "12. Створіть список з десяти елементів різного типу. Отримайте всі елементи, окрім двох перших та двох останніх та збережіть їх в новій змінній."
      ],
      "metadata": {
        "id": "JA47PKTv8zFK"
      }
    },
    {
      "cell_type": "code",
      "source": [
        "list_var1 = [3, 4.21, \"python\", True, 3j + 14, [1, 2], (3, 4), None, \"hi\", 10]\n",
        "\n",
        "list_sliced = list_var1[2:-2]\n",
        "\n",
        "print(list_sliced)"
      ],
      "metadata": {
        "id": "_rHdUR-ueP4-",
        "colab": {
          "base_uri": "https://localhost:8080/"
        },
        "outputId": "9f5cfdb6-b571-41ca-c317-e2b79b96075e"
      },
      "execution_count": null,
      "outputs": [
        {
          "output_type": "stream",
          "name": "stdout",
          "text": [
            "['python', True, (14+3j), [1, 2], (3, 4), None]\n"
          ]
        }
      ]
    },
    {
      "cell_type": "markdown",
      "source": [
        "# V. Робота з кортежами."
      ],
      "metadata": {
        "id": "pCjR1dJb1Qbi"
      }
    },
    {
      "cell_type": "markdown",
      "source": [
        "14. Створити кортеж з один елементом."
      ],
      "metadata": {
        "id": "fAZCxAX06R_k"
      }
    },
    {
      "cell_type": "code",
      "source": [
        "tuple_var1 = (1)"
      ],
      "metadata": {
        "id": "H7d82WkQev3e"
      },
      "execution_count": null,
      "outputs": []
    },
    {
      "cell_type": "markdown",
      "source": [
        "15. Порівняйте список та кортеж. Назвіть схожості та відмінності, випадки використання."
      ],
      "metadata": {
        "id": "8LCtYcmI6w1M"
      }
    },
    {
      "cell_type": "markdown",
      "source": [
        "Відповідь: в першу чергу кортежі використовуються для однотипних елементів. Списки-змінні, кортежі - незмінні\n",
        "\n",
        "Схожість:\n",
        "1. Списки на кортежі мають індексацію, тобто, до елементів можна доступитись за їх індексом\n",
        "2. Ітерація\n",
        "3. Можуть містити різні типи даних\n",
        "\n",
        "Відмінності\n",
        "1. Мутованість. Списки є змінними, а от кортежі - незмінні\n",
        "2. У списках можна реалізовувати додавання, видалення, зміна значень. У кортежах цього зробити неможна\n",
        "3. Синтаксис. Аби створит список використовуємо [], для кортежів ()\n",
        "4. Кортежі швидші, так як є immutable\n",
        "5. Кортеж можна використовувати як ключ у словнику (оскільки він незмінний). Список же ш ні\n",
        "6. Списки можна змінювати, тому більше підходять для динамічних даних.Кортежи частіше використовуються, коли дані повинні залишатися незмінними (наприклад, координати).\n",
        "\n",
        "Використання:\n",
        "1. Списки використовують коли потрібно мати колекції даних, де ці дані часто змінюються або додаються\n",
        "2. Кортежі ж підходять для даних, які незмінюються, використовуються для передачі фіксованих значень"
      ],
      "metadata": {
        "id": "fUsN1Hnue0C6"
      }
    },
    {
      "cell_type": "markdown",
      "source": [
        "16. Створіть кортеж з 11ти елементів чисел з рухомою комою та отримайте кожен парний за індексом елемент в зворотньому порядку. Наприклад, маючи (1.2, 2.3, 3.3, 4.3, 5.3, 6.3, 7.3, 8.3, 9.3, 0.3), отримати (0.3, 8.3, 6.3, 4.3, 2.3). Результат збережіть в нову змінну та виведіть на екран."
      ],
      "metadata": {
        "id": "m0xrwFijAmDD"
      }
    },
    {
      "cell_type": "code",
      "source": [
        "tuple_var1 = (1.2, 2.3, 3.3, 4.3, 5.3, 6.3, 7.3, 8.3, 9.3, 0.3)\n",
        "\n",
        "result = tuple_var1[-1::-2]\n",
        "\n",
        "print(result)"
      ],
      "metadata": {
        "id": "p-5DAH6XfAGA",
        "colab": {
          "base_uri": "https://localhost:8080/"
        },
        "outputId": "182e329c-0292-4b89-cdf7-9fcb8dff4dba"
      },
      "execution_count": null,
      "outputs": [
        {
          "output_type": "stream",
          "name": "stdout",
          "text": [
            "(0.3, 8.3, 6.3, 4.3, 2.3)\n"
          ]
        }
      ]
    },
    {
      "cell_type": "markdown",
      "source": [
        "# VI. Множини (Set)."
      ],
      "metadata": {
        "id": "rW_I9dt3x6cW"
      }
    },
    {
      "cell_type": "markdown",
      "source": [
        "17. Створити множину без елементів. Після цого за допомогою методу додайте кілька різних елементів до множини. Чи множини є змінним типом даних?"
      ],
      "metadata": {
        "id": "zNjRLHLw1Bgg"
      }
    },
    {
      "cell_type": "code",
      "source": [
        "set_var1 = set()\n",
        "\n",
        "set_var1.add(10)\n",
        "set_var1.add(\"python\")\n",
        "\n",
        "print(set_var1)"
      ],
      "metadata": {
        "id": "KOv7zc2Kfo4N",
        "colab": {
          "base_uri": "https://localhost:8080/"
        },
        "outputId": "9bb20d8a-e349-47cc-f028-d94870ec788d"
      },
      "execution_count": null,
      "outputs": [
        {
          "output_type": "stream",
          "name": "stdout",
          "text": [
            "{10, 'python'}\n"
          ]
        }
      ]
    },
    {
      "cell_type": "markdown",
      "source": [
        "ВІДПОВІДЬ: множини є змінювані. Однак, оскільки вони невпорядковані, індексування не має сенсу. Ми не можемо отримати доступ або змінити елемент множини за допомогою індексації або зрізу"
      ],
      "metadata": {
        "id": "vxS6dVYiftZQ"
      }
    },
    {
      "cell_type": "markdown",
      "source": [
        "18. Створити множину, маючи список my_list = [1, 1, 2, 67, 67, 8, 9]. Пояснити, чому \"зникли\" деякі елементи."
      ],
      "metadata": {
        "id": "gHpT0Zw_1HEF"
      }
    },
    {
      "cell_type": "code",
      "source": [
        "my_list = [1, 1, 2, 67, 67, 8, 9]\n",
        "set_var1 = set(my_list)\n",
        "\n",
        "print (set_var1)"
      ],
      "metadata": {
        "id": "qCN4uvJ_fxmu",
        "colab": {
          "base_uri": "https://localhost:8080/"
        },
        "outputId": "55ecca0c-072f-4387-ce36-e923bbb559e0"
      },
      "execution_count": null,
      "outputs": [
        {
          "output_type": "stream",
          "name": "stdout",
          "text": [
            "{1, 2, 67, 8, 9}\n"
          ]
        }
      ]
    },
    {
      "cell_type": "markdown",
      "source": [
        "ВІДПОВІДЬ: множини не допускають повторів елементів. Всі дублікати елементів автоматично видаляюттся, оскільки у множиннах повинні бути тільки унікальні значення"
      ],
      "metadata": {
        "id": "tFNc1e20fyny"
      }
    },
    {
      "cell_type": "markdown",
      "source": [
        "19. Створіть дві множини. Продемонстуйте над ними операції: обʼєднання, різниці, пересічі та симетричної різниці. Використовуйте методи, що не змінюють множини, а створюють нові."
      ],
      "metadata": {
        "id": "SRMkGizS1UwY"
      }
    },
    {
      "cell_type": "code",
      "source": [
        "set_var1 = {1, 2, 3, 4, 5}\n",
        "set_var2 = {6, 7, 8, 9, 3}\n",
        "\n",
        "print(\"Union:\", set_var1.union(set_var2)) # union\n",
        "print(\"Difference:\", set_var1.difference(set_var2)) # difference\n",
        "print(\"Intersection:\",set_var1.intersection(set_var2)) # intersection, elements that are at both sets\n",
        "print(\"Symmetric difference\", set_var1.symmetric_difference(set_var2 )) # symmetric difference, elements that are only in one set"
      ],
      "metadata": {
        "id": "h0T-VuDnf3Ri",
        "colab": {
          "base_uri": "https://localhost:8080/"
        },
        "outputId": "ef84300e-9b9a-4f92-fecb-249b657a61fa"
      },
      "execution_count": null,
      "outputs": [
        {
          "output_type": "stream",
          "name": "stdout",
          "text": [
            "Union: {1, 2, 3, 4, 5, 6, 7, 8, 9}\n",
            "Difference: {1, 2, 4, 5}\n",
            "Intersection: {3}\n",
            "Symmetric difference {1, 2, 4, 5, 6, 7, 8, 9}\n"
          ]
        }
      ]
    },
    {
      "cell_type": "markdown",
      "source": [
        "# VII. Словники (Dictionary)."
      ],
      "metadata": {
        "id": "kWc8gkzTx7Ea"
      }
    },
    {
      "cell_type": "markdown",
      "source": [
        "20. Створіть пустий словник. До нього додайте чотири пари елементів такі, щоб їхні ключі були різних типів. Чи може список бути ключем? Чому?"
      ],
      "metadata": {
        "id": "i5FLwj-B2ybQ"
      }
    },
    {
      "cell_type": "code",
      "source": [
        "empty_dict = {}\n",
        "\n",
        "empty_dict[1] = \"one\"\n",
        "empty_dict[\"Ukraine\"] = \"Kyiv\"\n",
        "empty_dict[3.14] = \"pi\"\n",
        "empty_dict[(1, 2)] =\"tuple\"\n",
        "\n",
        "print(empty_dict)"
      ],
      "metadata": {
        "id": "hxgv3BzrgLAV",
        "colab": {
          "base_uri": "https://localhost:8080/"
        },
        "outputId": "c78e8fc4-f83d-4bb1-c7e2-f66fe01c6cc8"
      },
      "execution_count": null,
      "outputs": [
        {
          "output_type": "stream",
          "name": "stdout",
          "text": [
            "{1: 'one', 'Ukraine': 'Kyiv', 3.14: 'pi', (1, 2): 'tuple'}\n"
          ]
        }
      ]
    },
    {
      "cell_type": "markdown",
      "source": [
        "ВІДПОВІДЬ: Ключі в словниках мають бути незмінними типами даних, оскільки ключи використовуються для пошуку значень у словнику. Це означає, що ключі повинні бути \"хешованими\".\n",
        "\n",
        "Списки — це змінний тип даних, і тому їх неможливо використовувати як ключі, оскільки вони можуть бути змінені після створення, що порушує принцип хешування"
      ],
      "metadata": {
        "id": "zwa7UVN-gR3m"
      }
    },
    {
      "cell_type": "markdown",
      "source": [
        "21. Створіть словник, де значенням в одній з пар теж буде словник, який теж має вкладений словник. Виведіть на екран значення, що міститься в словнику, що знаходиться на найнижчому рівні ієрархії вкладеності (найбільш внутрішній)."
      ],
      "metadata": {
        "id": "WM_pMlJsgoNf"
      }
    },
    {
      "cell_type": "code",
      "source": [
        "dict_var1 = {\n",
        "    \"country\": {\n",
        "        \"region\": {\n",
        "            \"town\": \"Kyiv\"\n",
        "        }\n",
        "    }\n",
        "}\n",
        "\n",
        "deepest_element = dict_var1[\"country\"][\"region\"][\"town\"]\n",
        "\n",
        "print(deepest_element)"
      ],
      "metadata": {
        "id": "60dlP7IHhAy4",
        "colab": {
          "base_uri": "https://localhost:8080/"
        },
        "outputId": "6979fed9-c2dd-4572-8e50-14a668954e4d"
      },
      "execution_count": null,
      "outputs": [
        {
          "output_type": "stream",
          "name": "stdout",
          "text": [
            "Kyiv\n"
          ]
        }
      ]
    },
    {
      "cell_type": "markdown",
      "source": [
        "# Вітаю! Ви велика(ий) молодець, що впоралась(вся). Похваліть себе та побалуйте чимось приємним. Я Вами пишаюся."
      ],
      "metadata": {
        "id": "xOZP0hkx6cCr"
      }
    }
  ]
}